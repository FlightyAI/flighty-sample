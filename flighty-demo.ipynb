{
 "cells": [
  {
   "cell_type": "code",
   "execution_count": 48,
   "metadata": {},
   "outputs": [
    {
     "name": "stdout",
     "output_type": "stream",
     "text": [
      "{'name': 'doc-rec', 'url': 'http://127.0.0.1/doc-rec'}\n",
      "{'name': 'xgboost',\n",
      " 'path': '/code/flighty-files/xgboost/0',\n",
      " 'type': 'model',\n",
      " 'version': 0}\n",
      "{'name': 'doc-rec-xgboost-0-code',\n",
      " 'path': '/code/flighty-files/doc-rec-xgboost-0-code/0',\n",
      " 'type': 'code',\n",
      " 'version': 0}\n",
      "{'docker_image': 'docker.io/gvashishtha/flighty:model_server',\n",
      " 'endpoint': 'doc-rec',\n",
      " 'name': 'xgboost',\n",
      " 'version': 0}\n"
     ]
    }
   ],
   "source": [
    "import flighty as f\n",
    "\n",
    "f.create_endpoint(name='doc-rec')\n",
    "f.create_artifact(path='./README.md', name='xgboost', version=0)\n",
    "f.create_handler(endpoint='doc-rec', name='xgboost', \n",
    "  code_path='./code_sample', artifacts=[{'name': 'xgboost', 'version': 0}])"
   ]
  },
  {
   "cell_type": "code",
   "execution_count": 50,
   "metadata": {},
   "outputs": [
    {
     "data": {
      "text/plain": [
       "200"
      ]
     },
     "execution_count": 50,
     "metadata": {},
     "output_type": "execute_result"
    }
   ],
   "source": [
    "response = f.invoke(endpoint='doc-rec', body={'data': {'id': 1, 'user': \"john\"}})\n",
    "response.text\n",
    "response.status_code"
   ]
  },
  {
   "cell_type": "code",
   "execution_count": 51,
   "metadata": {},
   "outputs": [
    {
     "name": "stdout",
     "output_type": "stream",
     "text": [
      "[{'docker_image': 'docker.io/gvashishtha/flighty:model_server',\n",
      "  'endpoint_id': 8,\n",
      "  'id': 12,\n",
      "  'name': 'xgboost',\n",
      "  'prod_traffic': 100,\n",
      "  'shadow_traffic': 0,\n",
      "  'version': 0}]\n"
     ]
    }
   ],
   "source": [
    "f.list_handlers()"
   ]
  },
  {
   "cell_type": "code",
   "execution_count": 52,
   "metadata": {},
   "outputs": [
    {
     "name": "stdout",
     "output_type": "stream",
     "text": [
      "None\n",
      "'Artifact doc-rec-xgboost-0-code with version 0 successfully deleted.'\n",
      "'Endpoint doc-rec successfully deleted.'\n",
      "'Artifact xgboost with version 0 successfully deleted.'\n"
     ]
    }
   ],
   "source": [
    "f.delete_handler(endpoint='doc-rec', name='xgboost', version=0)\n",
    "f.delete_endpoint(name='doc-rec')\n",
    "f.delete_artifact(name='xgboost', version=0)\n",
    "\n",
    "# delete_artifact(name='code-artifact', version=1)\n",
    "# delete_artifact(name='model-artifact', version=2)\n",
    "# delete_artifact(name='xgboost_code', version=0)"
   ]
  },
  {
   "cell_type": "code",
   "execution_count": 54,
   "metadata": {},
   "outputs": [
    {
     "name": "stdout",
     "output_type": "stream",
     "text": [
      "[]\n",
      "[]\n",
      "[]\n"
     ]
    }
   ],
   "source": [
    "f.list_artifacts()\n",
    "f.list_endpoints()\n",
    "f.list_handlers()"
   ]
  }
 ],
 "metadata": {
  "kernelspec": {
   "display_name": "Python 3.9.13 ('env': venv)",
   "language": "python",
   "name": "python3"
  },
  "language_info": {
   "codemirror_mode": {
    "name": "ipython",
    "version": 3
   },
   "file_extension": ".py",
   "mimetype": "text/x-python",
   "name": "python",
   "nbconvert_exporter": "python",
   "pygments_lexer": "ipython3",
   "version": "3.9.13"
  },
  "orig_nbformat": 4,
  "vscode": {
   "interpreter": {
    "hash": "71001d02ef4b98454a5281caa112cf3bd028e5f1f5cc4ab97b6bff9875a450e8"
   }
  }
 },
 "nbformat": 4,
 "nbformat_minor": 2
}
