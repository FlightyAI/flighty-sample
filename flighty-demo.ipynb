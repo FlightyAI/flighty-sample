{
 "cells": [
  {
   "cell_type": "markdown",
   "metadata": {},
   "source": [
    "## Train model and save it\n",
    "\n",
    "This model predicts remission likelihood of breast cancer using the UCI breast cancer dataset"
   ]
  },
  {
   "cell_type": "code",
   "execution_count": 32,
   "metadata": {},
   "outputs": [
    {
     "name": "stdout",
     "output_type": "stream",
     "text": [
      "Accuracy: 68.42%\n"
     ]
    }
   ],
   "source": [
    "%run train.py"
   ]
  },
  {
   "cell_type": "code",
   "execution_count": 36,
   "metadata": {},
   "outputs": [],
   "source": [
    "import enum\n",
    "import os\n",
    "import joblib\n",
    "\n",
    "dir_path = '/Users/gkv/Startup/flighty-sample/model_dir/'\n",
    "input_pipeline = joblib.load(os.path.join(dir_path, 'input_pipeline.joblib'))\n",
    "\n",
    "output_pipeline = None\n",
    "feature_names = input_pipeline[0].get_feature_names_out()\n",
    "col_dict = {}\n",
    "\n",
    "for feat in feature_names:\n",
    "    val = feat.split('_', 1)\n",
    "    if val[0] in col_dict:\n",
    "        col_dict[val[0]].append(val[1])\n",
    "    else:\n",
    "        col_dict[val[0]] = [val[1]]\n",
    "\n",
    "enums = [enum.Enum(k, {item: item for item in v}) for k, v in col_dict.items()]\n",
    "enums = {key: value for key, value in zip(col_dict.keys(), map(lambda x: (x, ...), enums))}"
   ]
  },
  {
   "cell_type": "markdown",
   "metadata": {},
   "source": [
    "## Import flighty SDK and initialize\n",
    "\n",
    "We create an endpoint, which is the stable URl where the model will be hosted, an artifact which is a folder holding our model files, and a handler, which is the actual Docker image and Python code that will run the model."
   ]
  },
  {
   "cell_type": "code",
   "execution_count": 26,
   "metadata": {},
   "outputs": [],
   "source": [
    "import flighty as f\n",
    "\n",
    "# f.set_hostname('127.0.0.1:8002')"
   ]
  },
  {
   "cell_type": "code",
   "execution_count": 36,
   "metadata": {},
   "outputs": [
    {
     "name": "stdout",
     "output_type": "stream",
     "text": [
      "{'name': 'doc-rec', 'url': 'http://127.0.0.1/doc-rec'}\n",
      "{'name': 'xgboost',\n",
      " 'path': '/code/flighty-files/xgboost/0',\n",
      " 'type': 'model',\n",
      " 'version': 0}\n",
      "{'name': 'doc-rec-xgboost-0-code',\n",
      " 'path': '/code/flighty-files/doc-rec-xgboost-0-code/0',\n",
      " 'type': 'code',\n",
      " 'version': 0}\n",
      "{'docker_image': 'docker.io/gvashishtha/flighty:flighty-demo',\n",
      " 'endpoint': 'doc-rec',\n",
      " 'name': 'xgboost',\n",
      " 'version': 0}\n"
     ]
    }
   ],
   "source": [
    "f.create_endpoint(name='doc-rec')\n",
    "f.create_artifact(path='./model_dir', name='xgboost', version=0)\n",
    "f.create_handler(endpoint='doc-rec', name='xgboost', \n",
    "  docker_image='docker.io/gvashishtha/flighty:flighty-demo',\n",
    "  code_path='./code_sample', artifacts=[{'name': 'xgboost', 'version': 0}])"
   ]
  },
  {
   "cell_type": "code",
   "execution_count": 31,
   "metadata": {},
   "outputs": [
    {
     "name": "stdout",
     "output_type": "stream",
     "text": [
      "\"Your prediction is ['no-recurrence-events']\" 200\n"
     ]
    }
   ],
   "source": [
    "response = f.invoke(endpoint='doc-rec', body={\"data\": {\n",
    "    \"age\": \"40-49\",\n",
    "    \"meno\": \"lt40\",\n",
    "    \"tumor_size\": \"0-4\",\n",
    "    \"inv_nodes\": \"0-2\",\n",
    "    \"node_caps\": \"yes\",\n",
    "    \"deg_malig\": \"1\",\n",
    "    \"breast\": \"left\",\n",
    "    \"breastquad\": \"left_up\",\n",
    "    \"irradiat\": \"yes\"\n",
    "  }})\n",
    "print(response.text, response.status_code)"
   ]
  },
  {
   "cell_type": "code",
   "execution_count": 32,
   "metadata": {},
   "outputs": [
    {
     "name": "stdout",
     "output_type": "stream",
     "text": [
      "[{'docker_image': 'docker.io/gvashishtha/flighty:flighty-demo',\n",
      "  'endpoint_id': 1,\n",
      "  'id': 1,\n",
      "  'name': 'xgboost',\n",
      "  'prod_traffic': 100,\n",
      "  'shadow_traffic': 0,\n",
      "  'version': 0}]\n"
     ]
    }
   ],
   "source": [
    "f.list_handlers()"
   ]
  },
  {
   "cell_type": "markdown",
   "metadata": {},
   "source": [
    "## Clean up"
   ]
  },
  {
   "cell_type": "code",
   "execution_count": 38,
   "metadata": {},
   "outputs": [
    {
     "name": "stdout",
     "output_type": "stream",
     "text": [
      "None\n",
      "'Artifact doc-rec-xgboost-0-code with version 0 successfully deleted.'\n",
      "'Endpoint doc-rec successfully deleted.'\n",
      "'Artifact xgboost with version 0 successfully deleted.'\n"
     ]
    }
   ],
   "source": [
    "f.delete_handler(endpoint='doc-rec', name='xgboost', version=0)\n",
    "f.delete_endpoint(name='doc-rec')\n",
    "f.delete_artifact(name='xgboost', version=0)"
   ]
  },
  {
   "cell_type": "markdown",
   "metadata": {},
   "source": [
    "## Confirm our resources were deleted"
   ]
  },
  {
   "cell_type": "code",
   "execution_count": 39,
   "metadata": {},
   "outputs": [
    {
     "name": "stdout",
     "output_type": "stream",
     "text": [
      "[]\n",
      "[]\n",
      "[]\n"
     ]
    }
   ],
   "source": [
    "f.list_artifacts()\n",
    "f.list_endpoints()\n",
    "f.list_handlers()"
   ]
  },
  {
   "cell_type": "code",
   "execution_count": null,
   "metadata": {},
   "outputs": [],
   "source": []
  }
 ],
 "metadata": {
  "kernelspec": {
   "display_name": "Python 3.9.13 ('env': venv)",
   "language": "python",
   "name": "python3"
  },
  "language_info": {
   "codemirror_mode": {
    "name": "ipython",
    "version": 3
   },
   "file_extension": ".py",
   "mimetype": "text/x-python",
   "name": "python",
   "nbconvert_exporter": "python",
   "pygments_lexer": "ipython3",
   "version": "3.9.13"
  },
  "orig_nbformat": 4,
  "vscode": {
   "interpreter": {
    "hash": "71001d02ef4b98454a5281caa112cf3bd028e5f1f5cc4ab97b6bff9875a450e8"
   }
  }
 },
 "nbformat": 4,
 "nbformat_minor": 2
}
