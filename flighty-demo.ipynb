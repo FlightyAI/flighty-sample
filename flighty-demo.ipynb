{
 "cells": [
  {
   "cell_type": "code",
   "execution_count": 2,
   "metadata": {},
   "outputs": [],
   "source": [
    "import swagger_client\n",
    "from swagger_client.rest import ApiException\n",
    "from pprint import pprint\n",
    "\n",
    "\n",
    "# create an instance of the API class\n",
    "api_client = swagger_client.ApiClient()\n",
    "api_client.configuration.host = \"http://127.0.0.1/api/v1\"\n",
    "api_instance = swagger_client.DefaultApi(api_client)\n",
    "\n",
    "def create_artifact(path, name, version, type=swagger_client.ArtifactTypeEnum().MODEL):\n",
    "    try:\n",
    "        # Create Artifact\n",
    "        api_response = api_instance.create_artifact_artifacts_create_post(\n",
    "            file=path, name=name, version=version, type=type)\n",
    "        pprint(api_response)\n",
    "    except ApiException as e:\n",
    "        print(\"Exception when calling DefaultApi->create_artifact_artifacts_create_post: %s\\n\" % e)\n",
    "\n",
    "def list_artifacts():\n",
    "    try:\n",
    "        # List Artifacts\n",
    "        api_response = api_instance.list_artifacts_artifacts_list_get()\n",
    "        pprint(api_response)\n",
    "    except ApiException as e:\n",
    "        print(\"Exception when calling DefaultApi->list_artifacts_artifacts_list_get: %s\\n\" % e)\n",
    "\n",
    "def delete_artifact(name, version):\n",
    "    body = swagger_client.Artifact(name=name, version=version) # Artifact | \n",
    "\n",
    "    try:\n",
    "        # Delete Artifact\n",
    "        api_response = api_instance.delete_artifact_artifacts_delete_delete(body)\n",
    "        pprint(api_response)\n",
    "    except ApiException as e:\n",
    "        print(\"Exception when calling DefaultApi->delete_artifact_artifacts_delete_delete: %s\\n\" % e)"
   ]
  },
  {
   "cell_type": "code",
   "execution_count": 19,
   "metadata": {},
   "outputs": [],
   "source": [
    "\n",
    "\n",
    "def create_endpoint(name):\n",
    "    body = swagger_client.EndpointCreate(name=name) # EndpointCreate | \n",
    "\n",
    "    try:\n",
    "        # Create Endpoint\n",
    "        api_response = api_instance.create_endpoint_endpoints_create_post(body)\n",
    "        pprint(api_response)\n",
    "    except ApiException as e:\n",
    "        print(\"Exception when calling DefaultApi->create_endpoint_endpoints_create_post: %s\\n\" % e)\n",
    "\n",
    "def delete_endpoint(name):\n",
    "    body = swagger_client.EndpointDelete(name=name) # EndpointDelete | \n",
    "\n",
    "    try:\n",
    "        # Delete Endpoint\n",
    "        api_response = api_instance.delete_endpoint_endpoints_delete_delete(body)\n",
    "        pprint(api_response)\n",
    "    except ApiException as e:\n",
    "        print(\"Exception when calling DefaultApi->delete_endpoint_endpoints_delete_delete: %s\\n\" % e)\n",
    "\n",
    "def list_endpoints():\n",
    "    try:\n",
    "        # List Endpoints\n",
    "        api_response = api_instance.list_endpoints_endpoints_list_get()\n",
    "        pprint(api_response)\n",
    "    except ApiException as e:\n",
    "        print(\"Exception when calling DefaultApi->list_endpoints_endpoints_list_get: %s\\n\" % e)\n"
   ]
  },
  {
   "cell_type": "code",
   "execution_count": 31,
   "metadata": {},
   "outputs": [],
   "source": [
    "def delete_handler(name, version, endpoint):\n",
    "    body = swagger_client.HandlerDelete(name=name, version=version, endpoint=endpoint) # HandlerDelete | \n",
    "\n",
    "    try:\n",
    "        # Firsg get name of associated code artifact\n",
    "        response = get_handler(name=name, endpoint=endpoint, version=version)\n",
    "\n",
    "        # Delete Handler\n",
    "        api_response = api_instance.delete_handler_handlers_delete_delete(body)\n",
    "        pprint(api_response)\n",
    "\n",
    "        # Then delete artifact\n",
    "        code_artifact = response.code_artifact\n",
    "        delete_artifact(name=code_artifact.name, version=code_artifact.version)\n",
    "\n",
    "\n",
    "    except ApiException as e:\n",
    "        print(\"Exception when calling DefaultApi->delete_handler_handlers_delete_delete: %s\\n\" % e)\n",
    "\n",
    "def get_handler(name, version, endpoint):\n",
    "    try:\n",
    "        # Get Handler\n",
    "        api_response = api_instance.get_handler_handlers_get_get(name, version, endpoint)\n",
    "        return api_response\n",
    "    except ApiException as e:\n",
    "        print(\"Exception when calling DefaultApi->get_handler_handlers_get_get: %s\\n\" % e)\n",
    "\n",
    "def list_handlers():\n",
    "    try:\n",
    "        # List Handlers\n",
    "        api_response = api_instance.list_handlers_handlers_list_get()\n",
    "        pprint(api_response)\n",
    "    except ApiException as e:\n",
    "        print(\"Exception when calling DefaultApi->list_handlers_handlers_list_get: %s\\n\" % e)\n",
    "\n",
    "\n"
   ]
  },
  {
   "cell_type": "code",
   "execution_count": 5,
   "metadata": {},
   "outputs": [],
   "source": [
    "import os\n",
    "import shutil\n",
    "import tempfile\n",
    "\n",
    "def create_handler(name, endpoint, code_path, version=0, artifacts=[{'name': 'xgboost', 'version': 0}]):\n",
    "    model_artifact = artifacts[0]['name']\n",
    "    model_artifact_version = artifacts[0]['version']\n",
    "    code_artifact = f\"{endpoint}-{name}-{version}-code\"\n",
    "    code_artifact_version = 0\n",
    "\n",
    "    if not os.path.isdir(code_path):\n",
    "        print(\"\"\"Path {code_path} looks like a regular file. \n",
    "            Please pass a path to a directory containing your code and try again\"\"\")\n",
    "\n",
    "    tmpdir = tempfile.mkdtemp()\n",
    "\n",
    "    try:\n",
    "        # Archive the file the user wants us to upload\n",
    "        tmparchive = os.path.join(tmpdir, 'archive')\n",
    "        shutil.make_archive(base_name=tmparchive, format='zip', root_dir=code_path)\n",
    "        tmparchive_name = os.path.join(tmpdir, 'archive.zip')\n",
    "        create_artifact(path=tmparchive_name, name=code_artifact, version=code_artifact_version, \n",
    "            type=swagger_client.ArtifactTypeEnum().CODE)\n",
    "        body = swagger_client.HandlerCreate(name=name, version=version, endpoint=endpoint,\n",
    "            model_artifact=model_artifact, model_artifact_version=model_artifact_version,\n",
    "            code_artifact=code_artifact, code_artifact_version=code_artifact_version) # HandlerCreate | \n",
    "\n",
    "        try:\n",
    "            # Create Handler\n",
    "            api_response = api_instance.create_handler_handlers_create_post(body)\n",
    "            pprint(api_response)\n",
    "        except ApiException as e:\n",
    "            print(\"Exception when calling DefaultApi->create_handler_handlers_create_post: %s\\n\" % e)\n",
    "    finally:\n",
    "        shutil.rmtree(tmpdir)\n"
   ]
  },
  {
   "cell_type": "code",
   "execution_count": 10,
   "metadata": {},
   "outputs": [],
   "source": [
    "import requests\n",
    "\n",
    "def invoke(endpoint, body):\n",
    "    return requests.post(f'http://127.0.0.1/{endpoint}/infer', json=body)"
   ]
  },
  {
   "cell_type": "code",
   "execution_count": 34,
   "metadata": {},
   "outputs": [
    {
     "name": "stdout",
     "output_type": "stream",
     "text": [
      "Exception when calling DefaultApi->create_endpoint_endpoints_create_post: (400)\n",
      "Reason: Bad Request\n",
      "HTTP response headers: HTTPHeaderDict({'date': 'Tue, 19 Jul 2022 18:12:59 GMT', 'server': 'istio-envoy', 'content-length': '70', 'content-type': 'application/json', 'x-envoy-upstream-service-time': '34'})\n",
      "HTTP response body: b'{\"detail\":\"Endpoint with name doc-rec \\\\\"\\\\n            already exists\"}'\n",
      "\n",
      "\n",
      "{'name': 'xgboost',\n",
      " 'path': '/code/flighty-files/xgboost/0',\n",
      " 'type': 'model',\n",
      " 'version': 0}\n",
      "{'name': 'doc-rec-xgboost-0-code',\n",
      " 'path': '/code/flighty-files/doc-rec-xgboost-0-code/0',\n",
      " 'type': 'code',\n",
      " 'version': 0}\n",
      "{'docker_image': 'docker.io/gvashishtha/flighty:model_server',\n",
      " 'endpoint': 'doc-rec',\n",
      " 'name': 'xgboost',\n",
      " 'version': 0}\n"
     ]
    }
   ],
   "source": [
    "create_endpoint(name='doc-rec')\n",
    "create_artifact(path='./README.md', name='xgboost', version=0)\n",
    "create_handler(endpoint='doc-rec', name='xgboost', \n",
    "  code_path='./code_sample', artifacts=[{'name': 'xgboost', 'version': 0}])"
   ]
  },
  {
   "cell_type": "code",
   "execution_count": 35,
   "metadata": {},
   "outputs": [
    {
     "data": {
      "text/plain": [
       "200"
      ]
     },
     "execution_count": 35,
     "metadata": {},
     "output_type": "execute_result"
    }
   ],
   "source": [
    "response = invoke(endpoint='doc-rec', body={'data': {'id': 1, 'user': \"john\"}})\n",
    "response.text\n",
    "response.status_code"
   ]
  },
  {
   "cell_type": "code",
   "execution_count": 36,
   "metadata": {},
   "outputs": [
    {
     "name": "stdout",
     "output_type": "stream",
     "text": [
      "[{'docker_image': 'docker.io/gvashishtha/flighty:model_server',\n",
      "  'endpoint_id': 6,\n",
      "  'id': 10,\n",
      "  'name': 'xgboost',\n",
      "  'prod_traffic': 100,\n",
      "  'shadow_traffic': 0,\n",
      "  'version': 0}]\n"
     ]
    }
   ],
   "source": [
    "list_handlers()"
   ]
  },
  {
   "cell_type": "code",
   "execution_count": 37,
   "metadata": {},
   "outputs": [
    {
     "name": "stdout",
     "output_type": "stream",
     "text": [
      "Exception when calling DefaultApi->delete_artifact_artifacts_delete_delete: (400)\n",
      "Reason: Bad Request\n",
      "HTTP response headers: HTTPHeaderDict({'date': 'Tue, 19 Jul 2022 18:13:23 GMT', 'server': 'istio-envoy', 'content-length': '213', 'content-type': 'application/json', 'x-envoy-upstream-service-time': '14'})\n",
      "HTTP response body: b'{\"detail\":\"Artifact with name doc-rec-xgboost-0-code\\\\n            and version 0 has associated handlers [name: xgboost, version: 0].\\\\n            Artifact cannot be deleted until those handlers are also deleted.\"}'\n",
      "\n",
      "\n",
      "None\n",
      "'Endpoint doc-rec successfully deleted.'\n",
      "'Artifact xgboost with version 0 successfully deleted.'\n"
     ]
    }
   ],
   "source": [
    "delete_handler(endpoint='doc-rec', name='xgboost', version=0)\n",
    "delete_endpoint(name='doc-rec')\n",
    "delete_artifact(name='xgboost', version=0)\n",
    "\n",
    "# delete_artifact(name='code-artifact', version=1)\n",
    "# delete_artifact(name='model-artifact', version=2)\n",
    "# delete_artifact(name='xgboost_code', version=0)"
   ]
  },
  {
   "cell_type": "code",
   "execution_count": 32,
   "metadata": {},
   "outputs": [
    {
     "name": "stdout",
     "output_type": "stream",
     "text": [
      "[{'id': 9,\n",
      "  'name': 'xgboost',\n",
      "  'path': '/code/flighty-files/xgboost/0',\n",
      "  'type': 'model',\n",
      "  'version': 0},\n",
      " {'id': 10,\n",
      "  'name': 'doc-rec-xgboost-0-code',\n",
      "  'path': '/code/flighty-files/doc-rec-xgboost-0-code/0',\n",
      "  'type': 'code',\n",
      "  'version': 0}]\n"
     ]
    }
   ],
   "source": [
    "list_artifacts()"
   ]
  },
  {
   "cell_type": "code",
   "execution_count": 33,
   "metadata": {},
   "outputs": [
    {
     "name": "stdout",
     "output_type": "stream",
     "text": [
      "'Artifact xgboost with version 0 successfully deleted.'\n",
      "'Artifact doc-rec-xgboost-0-code with version 0 successfully deleted.'\n"
     ]
    }
   ],
   "source": [
    "#delete_handler(endpoint='doc-rec', name='rules', version=1)\n",
    "delete_artifact(name='xgboost', version=0)\n",
    "delete_artifact(name='doc-rec-xgboost-0-code', version=0)\n",
    "#delete_endpoint(name='doc-rec')\n"
   ]
  },
  {
   "cell_type": "code",
   "execution_count": 21,
   "metadata": {},
   "outputs": [
    {
     "name": "stdout",
     "output_type": "stream",
     "text": [
      "'Endpoint doc-rec successfully deleted.'\n"
     ]
    }
   ],
   "source": [
    "delete_endpoint('doc-rec')"
   ]
  },
  {
   "cell_type": "code",
   "execution_count": null,
   "metadata": {},
   "outputs": [],
   "source": []
  }
 ],
 "metadata": {
  "kernelspec": {
   "display_name": "Python 3.9.13 ('env': venv)",
   "language": "python",
   "name": "python3"
  },
  "language_info": {
   "codemirror_mode": {
    "name": "ipython",
    "version": 3
   },
   "file_extension": ".py",
   "mimetype": "text/x-python",
   "name": "python",
   "nbconvert_exporter": "python",
   "pygments_lexer": "ipython3",
   "version": "3.9.13"
  },
  "orig_nbformat": 4,
  "vscode": {
   "interpreter": {
    "hash": "71001d02ef4b98454a5281caa112cf3bd028e5f1f5cc4ab97b6bff9875a450e8"
   }
  }
 },
 "nbformat": 4,
 "nbformat_minor": 2
}
