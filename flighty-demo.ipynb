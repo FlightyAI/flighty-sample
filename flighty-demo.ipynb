{
 "cells": [
  {
   "cell_type": "markdown",
   "metadata": {},
   "source": [
    "## Train model and save it\n",
    "\n",
    "This model predicts remission likelihood of breast cancer using the UCI breast cancer dataset"
   ]
  },
  {
   "cell_type": "code",
   "execution_count": 32,
   "metadata": {},
   "outputs": [
    {
     "name": "stdout",
     "output_type": "stream",
     "text": [
      "Accuracy: 68.42%\n"
     ]
    }
   ],
   "source": [
    "%run train.py"
   ]
  },
  {
   "cell_type": "markdown",
   "metadata": {},
   "source": [
    "## Import flighty SDK and initialize\n",
    "\n",
    "We create an *endpoint*, which is the stable URl where the model will be hosted. \n",
    "\n",
    "We then create an *artifact*, which is a folder holding our model files.\n",
    "\n",
    "Finally, we create a *handler*, which is the actual Docker image and Python code that will run the model."
   ]
  },
  {
   "cell_type": "code",
   "execution_count": 41,
   "metadata": {},
   "outputs": [],
   "source": [
    "import flighty as f\n",
    "\n",
    "# f.set_hostname('127.0.0.1:8002')"
   ]
  },
  {
   "cell_type": "code",
   "execution_count": 42,
   "metadata": {},
   "outputs": [
    {
     "name": "stdout",
     "output_type": "stream",
     "text": [
      "{'name': 'doc-rec', 'url': 'http://127.0.0.1/doc-rec'}\n",
      "{'name': 'xgboost',\n",
      " 'path': '/code/flighty-files/xgboost/0',\n",
      " 'type': 'model',\n",
      " 'version': 0}\n",
      "{'name': 'doc-rec-xgboost-0-code',\n",
      " 'path': '/code/flighty-files/doc-rec-xgboost-0-code/0',\n",
      " 'type': 'code',\n",
      " 'version': 0}\n",
      "{'docker_image': 'docker.io/gvashishtha/flighty:flighty-demo',\n",
      " 'endpoint': 'doc-rec',\n",
      " 'name': 'xgboost',\n",
      " 'version': 0}\n"
     ]
    }
   ],
   "source": [
    "f.create_endpoint(name='doc-rec')\n",
    "f.create_artifact(path='./model_dir', name='xgboost', version=0)\n",
    "f.create_handler(endpoint='doc-rec', name='xgboost', \n",
    "  docker_image='docker.io/gvashishtha/flighty:flighty-demo',\n",
    "  code_path='./code_sample', artifacts=[{'name': 'xgboost', 'version': 0}])"
   ]
  },
  {
   "cell_type": "code",
   "execution_count": 47,
   "metadata": {},
   "outputs": [
    {
     "name": "stdout",
     "output_type": "stream",
     "text": [
      "\"Your prediction is ['no-recurrence-events']\", Status code: 200\n"
     ]
    }
   ],
   "source": [
    "response = f.invoke(endpoint='doc-rec', body={\"data\": {\n",
    "    \"x0\": \"40-49\",\n",
    "    \"x1\": \"lt40\",\n",
    "    \"x2\": \"0-4\",\n",
    "    \"x3\": \"0-2\",\n",
    "    \"x4\": \"yes\",\n",
    "    \"x5\": \"1\",\n",
    "    \"x6\": \"left\",\n",
    "    \"x7\": \"left_up\",\n",
    "    \"x8\": \"yes\"\n",
    "  }})\n",
    "print(f'{response.text}, Status code: {response.status_code}')"
   ]
  },
  {
   "cell_type": "code",
   "execution_count": 48,
   "metadata": {},
   "outputs": [
    {
     "name": "stdout",
     "output_type": "stream",
     "text": [
      "[{'docker_image': 'docker.io/gvashishtha/flighty:flighty-demo',\n",
      "  'endpoint_id': 1,\n",
      "  'id': 1,\n",
      "  'name': 'xgboost',\n",
      "  'prod_traffic': 100,\n",
      "  'shadow_traffic': 0,\n",
      "  'version': 0}]\n"
     ]
    }
   ],
   "source": [
    "f.list_handlers()"
   ]
  },
  {
   "cell_type": "markdown",
   "metadata": {},
   "source": [
    "## Clean up"
   ]
  },
  {
   "cell_type": "code",
   "execution_count": 49,
   "metadata": {},
   "outputs": [
    {
     "name": "stdout",
     "output_type": "stream",
     "text": [
      "None\n",
      "'Artifact doc-rec-xgboost-0-code with version 0 successfully deleted.'\n",
      "'Endpoint doc-rec successfully deleted.'\n",
      "'Artifact xgboost with version 0 successfully deleted.'\n"
     ]
    }
   ],
   "source": [
    "f.delete_handler(endpoint='doc-rec', name='xgboost', version=0)\n",
    "f.delete_endpoint(name='doc-rec')\n",
    "f.delete_artifact(name='xgboost', version=0)"
   ]
  },
  {
   "cell_type": "markdown",
   "metadata": {},
   "source": [
    "## Confirm our resources were deleted"
   ]
  },
  {
   "cell_type": "code",
   "execution_count": 50,
   "metadata": {},
   "outputs": [
    {
     "name": "stdout",
     "output_type": "stream",
     "text": [
      "[]\n",
      "[]\n",
      "[]\n"
     ]
    }
   ],
   "source": [
    "f.list_artifacts()\n",
    "f.list_endpoints()\n",
    "f.list_handlers()"
   ]
  }
 ],
 "metadata": {
  "kernelspec": {
   "display_name": "Python 3.9.13 ('env': venv)",
   "language": "python",
   "name": "python3"
  },
  "language_info": {
   "codemirror_mode": {
    "name": "ipython",
    "version": 3
   },
   "file_extension": ".py",
   "mimetype": "text/x-python",
   "name": "python",
   "nbconvert_exporter": "python",
   "pygments_lexer": "ipython3",
   "version": "3.9.13"
  },
  "orig_nbformat": 4,
  "vscode": {
   "interpreter": {
    "hash": "71001d02ef4b98454a5281caa112cf3bd028e5f1f5cc4ab97b6bff9875a450e8"
   }
  }
 },
 "nbformat": 4,
 "nbformat_minor": 2
}
