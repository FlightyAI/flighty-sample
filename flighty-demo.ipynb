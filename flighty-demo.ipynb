{
 "cells": [
  {
   "cell_type": "code",
   "execution_count": 25,
   "metadata": {},
   "outputs": [
    {
     "name": "stdout",
     "output_type": "stream",
     "text": [
      "X shape: :  (286, 43)\n",
      "XGBClassifier(base_score=0.5, booster='gbtree', callbacks=None,\n",
      "              colsample_bylevel=1, colsample_bynode=1, colsample_bytree=1,\n",
      "              early_stopping_rounds=None, enable_categorical=False,\n",
      "              eval_metric=None, gamma=0, gpu_id=-1, grow_policy='depthwise',\n",
      "              importance_type=None, interaction_constraints='',\n",
      "              learning_rate=0.300000012, max_bin=256, max_cat_to_onehot=4,\n",
      "              max_delta_step=0, max_depth=6, max_leaves=0, min_child_weight=1,\n",
      "              missing=nan, monotone_constraints='()', n_estimators=100,\n",
      "              n_jobs=0, num_parallel_tree=1, predictor='auto', random_state=0,\n",
      "              reg_alpha=0, reg_lambda=1, ...)\n",
      "Accuracy: 68.42%\n"
     ]
    }
   ],
   "source": [
    "# binary classification, breast cancer dataset, label and one hot encoded\n",
    "import joblib\n",
    "import numpy\n",
    "from pandas import read_csv\n",
    "from xgboost import XGBClassifier\n",
    "from sklearn.model_selection import train_test_split\n",
    "from sklearn.metrics import accuracy_score\n",
    "from sklearn.preprocessing import LabelEncoder\n",
    "from sklearn.preprocessing import OneHotEncoder\n",
    "# load data\n",
    "data = read_csv('breast_cancer.csv', header=None)\n",
    "dataset = data.values\n",
    "\n",
    "# split data into X and y\n",
    "X = dataset[:,0:9]\n",
    "X = X.astype(str)\n",
    "Y = dataset[:,9]\n",
    "\n",
    "# encode string input values as integers\n",
    "encoded_x = None\n",
    "for i in range(0, X.shape[1]):\n",
    "\tlabel_encoder = LabelEncoder()\n",
    "\tlabel_encoder.fit(X[:,i])\n",
    "\tjoblib.dump(label_encoder, f'model_dir/label-encoder-{i}.joblib')\n",
    "\tfeature = label_encoder.transform(X[:,i])\n",
    "\tfeature = feature.reshape(X.shape[0], 1)\n",
    "\tonehot_encoder = OneHotEncoder(sparse=False, categories='auto')\n",
    "\tonehot_encoder = onehot_encoder.fit(feature)\n",
    "\tjoblib.dump(onehot_encoder, f'model_dir/encoder-{i}.joblib')\n",
    "\tfeature = onehot_encoder.transform(feature)\n",
    "\tif encoded_x is None:\n",
    "\t\tencoded_x = feature\n",
    "\telse:\n",
    "\t\tencoded_x = numpy.concatenate((encoded_x, feature), axis=1)\n",
    "print(\"X shape: : \", encoded_x.shape)\n",
    "\n",
    "# encode string class values as integers\n",
    "label_encoder = LabelEncoder()\n",
    "label_encoder = label_encoder.fit(Y)\n",
    "joblib.dump(label_encoder, 'model_dir/output-label-encoder.joblib')\n",
    "label_encoded_y = label_encoder.transform(Y)\n",
    "\n",
    "# split data into train and test sets\n",
    "seed = 7\n",
    "test_size = 0.33\n",
    "X_train, X_test, y_train, y_test = train_test_split(encoded_x, label_encoded_y, test_size=test_size, random_state=seed)\n",
    "\n",
    "# fit model no training data\n",
    "model = XGBClassifier()\n",
    "model.fit(X_train, y_train)\n",
    "print(model)\n",
    "\n",
    "# make predictions for test data\n",
    "y_pred = model.predict(X_test)\n",
    "predictions = [round(value) for value in y_pred]\n",
    "\n",
    "# evaluate predictions\n",
    "accuracy = accuracy_score(y_test, predictions)\n",
    "print(\"Accuracy: %.2f%%\" % (accuracy * 100.0))"
   ]
  },
  {
   "cell_type": "markdown",
   "metadata": {},
   "source": [
    "## Save the model and load it back into memory"
   ]
  },
  {
   "cell_type": "code",
   "execution_count": 17,
   "metadata": {},
   "outputs": [],
   "source": [
    "model.save_model('model_dir/xgboost.txt')"
   ]
  },
  {
   "cell_type": "markdown",
   "metadata": {},
   "source": [
    "## Import flighty SDK and initialize"
   ]
  },
  {
   "cell_type": "code",
   "execution_count": 1,
   "metadata": {},
   "outputs": [
    {
     "name": "stdout",
     "output_type": "stream",
     "text": [
      "Initializing flighty...\n",
      "    You are running flighty pointing at the default hostname of http://127.0.0.1/api/v1\n",
      "    To point at your own hostname please run flighty.set_hostname(<your_hostname>)\n"
     ]
    }
   ],
   "source": [
    "import flighty as f\n",
    "\n",
    "# f.set_hostname('127.0.0.1:8002')"
   ]
  },
  {
   "cell_type": "code",
   "execution_count": 9,
   "metadata": {},
   "outputs": [
    {
     "name": "stdout",
     "output_type": "stream",
     "text": [
      "{'name': 'doc-rec', 'url': 'http://127.0.0.1/doc-rec'}\n",
      "{'name': 'xgboost',\n",
      " 'path': '/code/flighty-files/xgboost/0',\n",
      " 'type': 'model',\n",
      " 'version': 0}\n",
      "{'name': 'doc-rec-xgboost-0-code',\n",
      " 'path': '/code/flighty-files/doc-rec-xgboost-0-code/0',\n",
      " 'type': 'code',\n",
      " 'version': 0}\n",
      "{'docker_image': 'docker.io/gvashishtha/flighty:flighty-demo',\n",
      " 'endpoint': 'doc-rec',\n",
      " 'name': 'xgboost',\n",
      " 'version': 0}\n"
     ]
    }
   ],
   "source": [
    "f.create_endpoint(name='doc-rec')\n",
    "f.create_artifact(path='./model_dir', name='xgboost', version=0)\n",
    "f.create_handler(endpoint='doc-rec', name='xgboost', \n",
    "  docker_image='docker.io/gvashishtha/flighty:flighty-demo',\n",
    "  code_path='./code_sample', artifacts=[{'name': 'xgboost', 'version': 0}])"
   ]
  },
  {
   "cell_type": "code",
   "execution_count": 11,
   "metadata": {},
   "outputs": [
    {
     "name": "stdout",
     "output_type": "stream",
     "text": [
      "\"Your prediction is ['no-recurrence-events']\" 200\n"
     ]
    }
   ],
   "source": [
    "response = f.invoke(endpoint='doc-rec', body={\"data\": {\n",
    "    \"age\": \"40-49\",\n",
    "    \"meno\": \"lt40\",\n",
    "    \"tumor_size\": \"0-4\",\n",
    "    \"inv_nodes\": \"0-2\",\n",
    "    \"node_caps\": \"yes\",\n",
    "    \"deg_malig\": \"1\",\n",
    "    \"breast\": \"left\",\n",
    "    \"breastquad\": \"left_up\",\n",
    "    \"irradiat\": \"yes\"\n",
    "  }})\n",
    "print(response.text, response.status_code)"
   ]
  },
  {
   "cell_type": "code",
   "execution_count": 12,
   "metadata": {},
   "outputs": [
    {
     "name": "stdout",
     "output_type": "stream",
     "text": [
      "[{'docker_image': 'docker.io/gvashishtha/flighty:flighty-demo',\n",
      "  'endpoint_id': 2,\n",
      "  'id': 2,\n",
      "  'name': 'xgboost',\n",
      "  'prod_traffic': 100,\n",
      "  'shadow_traffic': 0,\n",
      "  'version': 0}]\n"
     ]
    }
   ],
   "source": [
    "f.list_handlers()"
   ]
  },
  {
   "cell_type": "code",
   "execution_count": 13,
   "metadata": {},
   "outputs": [
    {
     "name": "stdout",
     "output_type": "stream",
     "text": [
      "None\n",
      "'Artifact doc-rec-xgboost-0-code with version 0 successfully deleted.'\n",
      "'Endpoint doc-rec successfully deleted.'\n",
      "'Artifact xgboost with version 0 successfully deleted.'\n"
     ]
    }
   ],
   "source": [
    "f.delete_handler(endpoint='doc-rec', name='xgboost', version=0)\n",
    "f.delete_endpoint(name='doc-rec')\n",
    "f.delete_artifact(name='xgboost', version=0)"
   ]
  },
  {
   "cell_type": "code",
   "execution_count": 8,
   "metadata": {},
   "outputs": [
    {
     "name": "stdout",
     "output_type": "stream",
     "text": [
      "[]\n",
      "[]\n",
      "[]\n"
     ]
    }
   ],
   "source": [
    "f.list_artifacts()\n",
    "f.list_endpoints()\n",
    "f.list_handlers()"
   ]
  },
  {
   "cell_type": "code",
   "execution_count": null,
   "metadata": {},
   "outputs": [],
   "source": []
  }
 ],
 "metadata": {
  "kernelspec": {
   "display_name": "Python 3.9.13 ('env': venv)",
   "language": "python",
   "name": "python3"
  },
  "language_info": {
   "codemirror_mode": {
    "name": "ipython",
    "version": 3
   },
   "file_extension": ".py",
   "mimetype": "text/x-python",
   "name": "python",
   "nbconvert_exporter": "python",
   "pygments_lexer": "ipython3",
   "version": "3.9.13"
  },
  "orig_nbformat": 4,
  "vscode": {
   "interpreter": {
    "hash": "71001d02ef4b98454a5281caa112cf3bd028e5f1f5cc4ab97b6bff9875a450e8"
   }
  }
 },
 "nbformat": 4,
 "nbformat_minor": 2
}
